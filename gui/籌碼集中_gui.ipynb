{
 "cells": [
  {
   "cell_type": "code",
   "execution_count": null,
   "metadata": {
    "extensions": {
     "jupyter_dashboards": {
      "version": 1,
      "views": {
       "grid_default": {
        "col": 0,
        "height": 4,
        "hidden": true,
        "row": 0,
        "width": 4
       },
       "report_default": {
        "hidden": false
       }
      }
     }
    },
    "hide_input": true
   },
   "outputs": [],
   "source": [
    "from datetime import datetime\n",
    "import glob\n",
    "import time\n",
    "import numpy as np\n",
    "\n",
    "# from plotly import __version__\n",
    "from plotly.offline import download_plotlyjs, init_notebook_mode, plot, iplot\n",
    "\n",
    "import plotly as py\n",
    "import cufflinks as cf\n",
    "import pandas as pd\n",
    "import plotly.tools as tls\n",
    "import plotly.graph_objs as go\n",
    "\n",
    "init_notebook_mode(connected=True)\n",
    "\n",
    "import pyodbc\n",
    "from sqlalchemy import create_engine\n",
    "\n",
    "#  todo driver 修正\n",
    "def conn():\n",
    "    return pyodbc.connect(\n",
    "    'DRIVER={ODBC Driver 13 for SQL Server};' +\n",
    "    'SERVER=localhost;' + 'PORT=1443;' +\n",
    "    'DATABASE=StockDB;' +\n",
    "    'UID=sa;' + 'PWD=admin;' )\n",
    "\n",
    "# Create the sqlalchemy engine using the pyodbc connection\n",
    "engine = create_engine( \"mssql+pyodbc://?driver=ODBC+Driver+13?charset=utf8\", creator = conn )\n",
    "con = engine.connect( )\n",
    "con.execute( \"SET LANGUAGE us_english; set dateformat ymd;\" )\n",
    "con.close()"
   ]
  },
  {
   "cell_type": "code",
   "execution_count": null,
   "metadata": {
    "code_folding": [],
    "collapsed": true,
    "extensions": {
     "jupyter_dashboards": {
      "version": 1,
      "views": {
       "grid_default": {
        "hidden": true
       },
       "report_default": {
        "hidden": true
       }
      }
     }
    },
    "hide_input": false
   },
   "outputs": [],
   "source": [
    "query_num = '2330'"
   ]
  },
  {
   "cell_type": "code",
   "execution_count": null,
   "metadata": {
    "extensions": {
     "jupyter_dashboards": {
      "version": 1,
      "views": {
       "grid_default": {
        "col": null,
        "height": 19,
        "hidden": false,
        "row": 135,
        "width": null
       },
       "report_default": {
        "hidden": false
       }
      }
     }
    },
    "hide_input": true,
    "scrolled": false
   },
   "outputs": [],
   "source": [
    "cmd = \"\"\"SELECT    \n",
    "      [date],\n",
    "      [open_price],\n",
    "      [high_price],\n",
    "      [low_price],\n",
    "      [close_price],\n",
    "      [volume] FROM [dbo].[TECH_H] WHERE stock = \\'{}\\' ORDER BY date DESC\"\"\"\n",
    "\n",
    "tech_h_df = pd.read_sql_query(cmd.format(query_num), engine)\n",
    "\n",
    "# tech_d_df.head( )\n",
    "\n",
    "tech_h_df['date'] = pd.to_datetime(tech_h_df['date'])\n",
    "\n",
    "mask = (tech_h_df['date'] > '2018-1-1')\n",
    "\n",
    "tech_h_df = tech_h_df.loc[mask]\n",
    "\n",
    "trace = go.Ohlc(\n",
    "    x=tech_h_df['date'],\n",
    "    open=tech_h_df['open_price'],\n",
    "    high=tech_h_df['high_price'],\n",
    "    low=tech_h_df['low_price'],\n",
    "    close=tech_h_df['close_price'])\n",
    "\n",
    "data = [trace]\n",
    "\n",
    "py.offline.iplot(data, filename='ohlc_datetime')\n",
    "\n",
    "# tech_h_df[ 'date' ]\n",
    "# trace = go.Candlestick( x    = tech_h_df[ 'date' ],\n",
    "#                        open  = tech_h_df[ 'open_price' ],\n",
    "#                        high  = tech_h_df[ 'high_price' ],\n",
    "#                        low   = tech_h_df[ 'low_price' ],\n",
    "#                        close = tech_h_df[ 'close_price' ] )\n",
    "\n",
    "# fig = dict( data = [trace], layout = layout )"
   ]
  },
  {
   "cell_type": "code",
   "execution_count": null,
   "metadata": {
    "code_folding": [],
    "extensions": {
     "jupyter_dashboards": {
      "version": 1,
      "views": {
       "grid_default": {
        "col": 0,
        "height": 19,
        "hidden": false,
        "row": 97,
        "width": null
       },
       "report_default": {
        "hidden": false
       }
      }
     }
    },
    "hide_input": true
   },
   "outputs": [],
   "source": [
    "cmd = \"\"\"SELECT    \n",
    "      [date],\n",
    "      [open_price],\n",
    "      [high_price],\n",
    "      [low_price],\n",
    "      [close_price],\n",
    "      [volume] FROM [dbo].[TECH_M] WHERE stock = \\'{}\\' ORDER BY date DESC\"\"\"\n",
    "\n",
    "tech_m_df = pd.read_sql_query( cmd.format( query_num ), engine )\n",
    "\n",
    "# tech_d_df.head( )\n",
    "\n",
    "tech_m_df[ 'date' ] = pd.to_datetime( tech_m_df[ 'date' ] )  \n",
    "\n",
    "mask = ( tech_m_df['date'] > '2018-1-1' ) \n",
    "\n",
    "tech_m_df = tech_m_df.loc[ mask ]\n",
    "\n",
    "trace = go.Candlestick( x    = tech_m_df[ 'date' ],\n",
    "                       open  = tech_m_df[ 'open_price' ],\n",
    "                       high  = tech_m_df[ 'high_price' ],\n",
    "                       low   = tech_m_df[ 'low_price' ],\n",
    "                       close = tech_m_df[ 'close_price' ] )\n",
    "layout = {\n",
    "    'title': '大成鋼月線',\n",
    "    'yaxis': { 'title': '股價' } }\n",
    "\n",
    "fig = dict( data = [trace], layout = layout )\n",
    "                       \n",
    "py.offline.iplot( fig, filename='candlestick_datetime' )"
   ]
  },
  {
   "cell_type": "code",
   "execution_count": null,
   "metadata": {
    "extensions": {
     "jupyter_dashboards": {
      "version": 1,
      "views": {
       "grid_default": {
        "col": 0,
        "height": 19,
        "hidden": false,
        "row": 116,
        "width": null
       },
       "report_default": {
        "hidden": false
       }
      }
     }
    },
    "hide_input": true,
    "scrolled": false
   },
   "outputs": [],
   "source": [
    "cmd = \"\"\"SELECT    \n",
    "      [date],\n",
    "      [open_price],\n",
    "      [high_price],\n",
    "      [low_price],\n",
    "      [close_price],\n",
    "      [volume] FROM [dbo].[TECH_W] WHERE stock = \\'{}\\' ORDER BY date DESC\"\"\"\n",
    "\n",
    "tech_w_df = pd.read_sql_query( cmd.format( query_num ), engine )\n",
    "\n",
    "# tech_d_df.head( )\n",
    "\n",
    "tech_w_df[ 'date' ] = pd.to_datetime( tech_w_df[ 'date' ] )  \n",
    "\n",
    "mask = ( tech_w_df['date'] > '2017-1-1' ) \n",
    "\n",
    "tech_w_df = tech_w_df.loc[ mask ]\n",
    "\n",
    "trace = go.Candlestick( x    = tech_w_df[ 'date' ],\n",
    "                       open  = tech_w_df[ 'open_price' ],\n",
    "                       high  = tech_w_df[ 'high_price' ],\n",
    "                       low   = tech_w_df[ 'low_price' ],\n",
    "                       close = tech_w_df[ 'close_price' ] )\n",
    "\n",
    "layout = {\n",
    "    'title': '大成鋼周線',\n",
    "    'yaxis': { 'title': '股價' } }\n",
    "\n",
    "fig = dict( data = [trace], layout = layout )\n",
    "                       \n",
    "py.offline.iplot( fig, filename='candlestick_datetime' )"
   ]
  },
  {
   "cell_type": "code",
   "execution_count": null,
   "metadata": {
    "extensions": {
     "jupyter_dashboards": {
      "version": 1,
      "views": {
       "grid_default": {
        "col": 0,
        "height": 10,
        "hidden": false,
        "row": 0,
        "width": 12
       },
       "report_default": {
        "hidden": false
       }
      }
     }
    },
    "hide_input": true
   },
   "outputs": [],
   "source": [
    "cmd = \"\"\"SELECT [stock]\n",
    "      ,[date]\n",
    "      ,[foreign_sell]\n",
    "      ,[investment_sell]\n",
    "      ,[dealer_sell]\n",
    "      ,[single_day_sell]\n",
    "      ,[foreign_estimate]\n",
    "      ,[investment_estimate]\n",
    "      ,[dealer_estimate]\n",
    "      ,[single_day_estimate]\n",
    "      ,[foreign_ratio]\n",
    "      ,[investment_ratio]\n",
    "  FROM [dbo].[INVESTORS]\n",
    "  WHERE stock = \\'{}\\' ORDER BY date DESC\"\"\"\n",
    "  \n",
    "investors_df = pd.read_sql_query( cmd.format( query_num ), engine )\n",
    "\n",
    "investors_df.head()"
   ]
  },
  {
   "cell_type": "code",
   "execution_count": null,
   "metadata": {
    "extensions": {
     "jupyter_dashboards": {
      "version": 1,
      "views": {
       "grid_default": {
        "col": 0,
        "height": 10,
        "hidden": false,
        "row": 10,
        "width": 12
       },
       "report_default": {
        "hidden": false
       }
      }
     }
    },
    "hide_input": true
   },
   "outputs": [],
   "source": [
    "cmd = \"\"\"SELECT [stock]\n",
    "      ,[date]\n",
    "      ,[lend_over]\n",
    "      ,[lend_chang]\n",
    "      ,[lend_return]\n",
    "      ,[lend_diff]\n",
    "      ,[sell_over]\n",
    "      ,[sell_day]\n",
    "      ,[sell_day_return]\n",
    "      ,[sell_day_diff]\n",
    "      ,[sell_day_limit]\n",
    "  FROM [dbo].[LEND]\n",
    "  WHERE stock = \\'{}\\' ORDER BY date DESC\"\"\"\n",
    "  \n",
    "lend_df = pd.read_sql_query( cmd.format( query_num ), engine )\n",
    "\n",
    "lend_df.head()"
   ]
  },
  {
   "cell_type": "code",
   "execution_count": null,
   "metadata": {
    "extensions": {
     "jupyter_dashboards": {
      "version": 1,
      "views": {
       "grid_default": {
        "col": 0,
        "height": 10,
        "hidden": false,
        "row": 20,
        "width": 12
       },
       "report_default": {
        "hidden": false
       }
      }
     }
    },
    "hide_input": true
   },
   "outputs": [],
   "source": [
    "cmd = \"\"\"SELECT [stock]\n",
    "      ,[date]\n",
    "      ,[Financing_Buy]\n",
    "      ,[Financing_Sell]\n",
    "      ,[Financing_PayOff]\n",
    "      ,[Financing_Over]\n",
    "      ,[Financing_Increase]\n",
    "      ,[Financing_Limit]\n",
    "      ,[Financing_Use]\n",
    "      ,[Margin_Sell]\n",
    "      ,[Margin_Buy]\n",
    "      ,[Margin_PayOff]\n",
    "      ,[Margin_Over]\n",
    "      ,[Margin_Increase]\n",
    "      ,[Margin_Ratio]\n",
    "      ,[Margin_Offset]\n",
    "  FROM [dbo].[MARGIN]\n",
    "  WHERE stock = \\'{}\\' ORDER BY date DESC\"\"\"\n",
    "  \n",
    "margin_df = pd.read_sql_query( cmd.format( query_num ), engine )\n",
    "\n",
    "margin_df.head()"
   ]
  },
  {
   "cell_type": "code",
   "execution_count": null,
   "metadata": {
    "collapsed": true,
    "extensions": {
     "jupyter_dashboards": {
      "version": 1,
      "views": {
       "grid_default": {
        "hidden": true
       },
       "report_default": {
        "hidden": true
       }
      }
     }
    },
    "hide_input": true
   },
   "outputs": [],
   "source": [
    "# u'當月營收', \n",
    "# u'上月營收', \n",
    "# u'去年當月營收', \n",
    "# u'上月比較增減(%)', \n",
    "# u'去年同月增減(%)', \n",
    "# u'當月累計營收', \n",
    "# u'去年累計營收', \n",
    "# u'前期比較增減(%)' \n",
    "\n",
    "cmd = \"\"\"SELECT [stock]\n",
    "      ,[date]\n",
    "      ,[Month_Revenue]\n",
    "      ,[Last_Month_Revenue]\n",
    "      ,[Last_Year_Revenue]\n",
    "      ,[Last_Month_Ratio]\n",
    "      ,[Last_Year_Ration]\n",
    "      ,[Month_Acc_Revenue]\n",
    "      ,[Last_Year_Acc_Revenue]\n",
    "      ,[ration]  \n",
    "  FROM [dbo].[REVENUE]\n",
    "  WHERE stock = \\'{}\\' ORDER BY date DESC\"\"\"\n",
    "  \n",
    "revenue_df = pd.read_sql_query( cmd.format( query_num ), engine )\n",
    "\n",
    "# revenue_df.head()"
   ]
  },
  {
   "cell_type": "code",
   "execution_count": null,
   "metadata": {
    "extensions": {
     "jupyter_dashboards": {
      "version": 1,
      "views": {
       "grid_default": {
        "col": 0,
        "height": 26,
        "hidden": false,
        "row": 30,
        "width": null
       },
       "report_default": {
        "hidden": true
       }
      }
     }
    },
    "hide_input": false
   },
   "outputs": [],
   "source": [
    "fig = tls.make_subplots( rows=8, cols=1, shared_xaxes=False )\n",
    "#                         subplot_titles=( '集中度', 'K線', '主力買賣超', '主力買賣超') )\n",
    "\n",
    "fig.append_trace( {'x': revenue_df['date'], \n",
    "                   'y': revenue_df['Month_Revenue'], \n",
    "                   'type': 'scatter', \n",
    "                   'name': '當月營收' }, 1, 1 )\n",
    "\n",
    "fig.append_trace( {'x': revenue_df['date'], \n",
    "                   'y': revenue_df['Last_Month_Revenue'], \n",
    "                   'type': 'scatter', \n",
    "                   'name': '上月營收' }, 2, 1 )\n",
    "\n",
    "fig.append_trace( {'x': revenue_df['date'], \n",
    "                   'y': revenue_df['Last_Year_Revenue'], \n",
    "                   'type': 'scatter', \n",
    "                   'name': '去年當月營收' }, 3, 1 )\n",
    "\n",
    "fig.append_trace( {'x': revenue_df['date'], \n",
    "                   'y': revenue_df['Last_Month_Ratio'], \n",
    "                   'type': 'scatter', \n",
    "                   'name': '上月比較增減%' }, 4, 1 )\n",
    "\n",
    "fig.append_trace( {'x': revenue_df['date'], \n",
    "                   'y': revenue_df['Last_Year_Ration'], \n",
    "                   'type': 'scatter', \n",
    "                   'name': '去年同月增減%' }, 5, 1 )\n",
    "\n",
    "fig.append_trace( {'x': revenue_df['date'], \n",
    "                   'y': revenue_df['Month_Acc_Revenue'], \n",
    "                   'type': 'scatter', \n",
    "                   'name': '當月累計營收' }, 6, 1 )\n",
    "\n",
    "fig.append_trace( {'x': revenue_df['date'], \n",
    "                   'y': revenue_df['Last_Year_Acc_Revenue'], \n",
    "                   'type': 'scatter', \n",
    "                   'name': '去年累計營收' }, 7, 1 )\n",
    "\n",
    "fig.append_trace( {'x': revenue_df['date'], \n",
    "                   'y': revenue_df['ration'], \n",
    "                   'type': 'scatter', \n",
    "                   'name': '前期比較增減' }, 8, 1 )\n",
    "\n",
    "py.offline.iplot( fig, filename= '月營收' )"
   ]
  },
  {
   "cell_type": "code",
   "execution_count": null,
   "metadata": {
    "extensions": {
     "jupyter_dashboards": {
      "version": 1,
      "views": {
       "grid_default": {
        "col": 0,
        "height": 19,
        "hidden": false,
        "row": 56,
        "width": null
       },
       "report_default": {
        "hidden": false
       }
      }
     }
    },
    "hide_input": false
   },
   "outputs": [],
   "source": [
    "cmd = \"\"\"SELECT    \n",
    "      [date],\n",
    "      [open_price],\n",
    "      [high_price],\n",
    "      [low_price],\n",
    "      [close_price],\n",
    "      [volume] FROM [dbo].[TECH_D] WHERE stock = \\'{}\\' ORDER BY date DESC\"\"\"\n",
    "\n",
    "tech_d_df = pd.read_sql_query( cmd.format( query_num ), engine )\n",
    "\n",
    "# tech_d_df.head( )\n",
    "\n",
    "tech_d_df[ 'date' ] = pd.to_datetime( tech_d_df[ 'date' ] )  \n",
    "\n",
    "mask = ( tech_d_df['date'] > '2018-1-1' ) \n",
    "\n",
    "tech_d_df = tech_d_df.loc[ mask ]\n",
    "\n",
    "trace = go.Candlestick( x    = tech_d_df[ 'date' ],\n",
    "                       open  = tech_d_df[ 'open_price' ],\n",
    "                       high  = tech_d_df[ 'high_price' ],\n",
    "                       low   = tech_d_df[ 'low_price' ],\n",
    "                       close = tech_d_df[ 'close_price' ] )\n",
    "layout = {\n",
    "    'title': '大成鋼',\n",
    "    'yaxis': { 'title': '股價' } }\n",
    "\n",
    "fig = dict( data = [trace], layout = layout )\n",
    "                       \n",
    "py.offline.iplot( fig, filename='candlestick_datetime' )"
   ]
  },
  {
   "cell_type": "code",
   "execution_count": null,
   "metadata": {
    "extensions": {
     "jupyter_dashboards": {
      "version": 1,
      "views": {
       "grid_default": {
        "col": 0,
        "height": 23,
        "hidden": true,
        "row": 75,
        "width": null
       },
       "report_default": {
        "hidden": true
       }
      }
     }
    },
    "hide_input": true,
    "scrolled": false
   },
   "outputs": [],
   "source": [
    "path = r'C:\\workspace\\stock\\01_Day process\\券商分點\\籌碼集中暫存.csv'\n",
    "\n",
    "csv_df = pd.read_csv(\n",
    "    path,\n",
    "    sep=',',\n",
    "    encoding='utf8',\n",
    "    false_values='NA',\n",
    "    dtype={\n",
    "        '股號': str,\n",
    "        '日期': str\n",
    "    },\n",
    ")\n",
    "\n",
    "filename = '{}_籌碼集中.html'.format(query_num)\n",
    "\n",
    "csv_df = csv_df[csv_df['股號'] == query_num]\n",
    "csv_df = csv_df[::-1]\n",
    "\n",
    "# hover_text = df.apply( lambda r: '<br>'.join( [ '{}: {}'.format( c, r[c] )\n",
    "#                                             for c in df.columns ] ), axis=1 )\n",
    "\n",
    "fig = tls.make_subplots(rows=3, cols=2, shared_xaxes=True)\n",
    "#                         subplot_titles=( '集中度', 'K線', '主力買賣超', '主力買賣超') )\n",
    "\n",
    "fig.append_trace({\n",
    "    'x': csv_df['日期'],\n",
    "    'y': csv_df['01天集中%'],\n",
    "    'type': 'scatter',\n",
    "    'name': '01天集中%'\n",
    "}, 1, 2)\n",
    "\n",
    "fig.append_trace({\n",
    "    'x': csv_df['日期'],\n",
    "    'y': csv_df['05天集中%'],\n",
    "    'type': 'scatter',\n",
    "    'name': '05天集中%'\n",
    "}, 1, 2)\n",
    "\n",
    "fig.append_trace({\n",
    "    'x': csv_df['日期'],\n",
    "    'y': csv_df['收盤'],\n",
    "    'type': 'scatter',\n",
    "    'name': '收盤'\n",
    "}, 2, 2)\n",
    "\n",
    "fig.append_trace({\n",
    "    'x': csv_df['日期'],\n",
    "    'y': csv_df['01天主力買賣超(張)'],\n",
    "    'type': 'bar',\n",
    "    'name': '張'\n",
    "}, 3, 2)\n",
    "\n",
    "trace = go.Candlestick(\n",
    "    x=tech_d_df['date'],\n",
    "    open=tech_d_df['open_price'],\n",
    "    high=tech_d_df['high_price'],\n",
    "    low=tech_d_df['low_price'],\n",
    "    close=tech_d_df['close_price'])\n",
    "\n",
    "fig.append_trace(trace, 1, 1)\n",
    "\n",
    "py.offline.iplot(fig, filename=filename)"
   ]
  },
  {
   "cell_type": "code",
   "execution_count": null,
   "metadata": {
    "collapsed": true,
    "extensions": {
     "jupyter_dashboards": {
      "version": 1,
      "views": {
       "grid_default": {
        "hidden": true
       },
       "report_default": {
        "hidden": true
       }
      }
     }
    },
    "hide_input": true
   },
   "outputs": [],
   "source": [
    "cmd = \"\"\"SELECT [stock]\n",
    "      ,[date]\n",
    "      ,[Share_Rating_People_1_999]\n",
    "      ,[Share_Rating_Unit_1_999]\n",
    "      ,[Share_Rating_Proportion_1_999]\n",
    "      ,[Share_Rating_People_1000_5000]\n",
    "      ,[Share_Rating_Unit_1000_5000]\n",
    "      ,[Share_Rating_Proportion_1000_5000]\n",
    "      ,[Share_Rating_People_5001_10000]\n",
    "      ,[Share_Rating_Unit_5001_10000]\n",
    "      ,[Share_Rating_Proportion_5001_10000]\n",
    "      ,[Share_Rating_People_10001_15000]\n",
    "      ,[Share_Rating_Unit_10001_15000]\n",
    "      ,[Share_Rating_Proportion_10001_15000]\n",
    "      ,[Share_Rating_People_15001_20000]\n",
    "      ,[Share_Rating_Unit_15001_20000]\n",
    "      ,[Share_Rating_Proportion_15001_20000]\n",
    "      ,[Share_Rating_People_20001_30000]\n",
    "      ,[Share_Rating_Unit_20001_30000]\n",
    "      ,[Share_Rating_Proportion_20001_30000]\n",
    "      ,[Share_Rating_People_30001_40000]\n",
    "      ,[Share_Rating_Unit_30001_40000]\n",
    "      ,[Share_Rating_Proportion_30001_40000]\n",
    "      ,[Share_Rating_People_40001_50000]\n",
    "      ,[Share_Rating_Unit_40001_50000]\n",
    "      ,[Share_Rating_Proportion_40001_50000]\n",
    "      ,[Share_Rating_People_50001_100000]\n",
    "      ,[Share_Rating_Unit_50001_100000]\n",
    "      ,[Share_Rating_Proportion_50001_100000]\n",
    "      ,[Share_Rating_People_100001_200000]\n",
    "      ,[Share_Rating_Unit_100001_200000]\n",
    "      ,[Share_Rating_Proportion_100001_200000]\n",
    "      ,[Share_Rating_People_200001_400000]\n",
    "      ,[Share_Rating_Unit_200001_400000]\n",
    "      ,[Share_Rating_Proportion_200001_400000]\n",
    "      ,[Share_Rating_People_400001_600000]\n",
    "      ,[Share_Rating_Unit_400001_600000]\n",
    "      ,[Share_Rating_Proportion_400001_600000]\n",
    "      ,[Share_Rating_People_600001_800000]\n",
    "      ,[Share_Rating_Unit_600001_800000]\n",
    "      ,[Share_Rating_Proportion_600001_800000]\n",
    "      ,[Share_Rating_People_800001_1000000]\n",
    "      ,[Share_Rating_Unit_800001_1000000]\n",
    "      ,[Share_Rating_Proportion_800001_1000000]\n",
    "      ,[Share_Rating_People_Up_1000001]\n",
    "      ,[Share_Rating_Unit_Up_1000001]\n",
    "      ,[Share_Rating_Proportion_Up_1000001]\n",
    "  FROM [dbo].[TDCC]\n",
    "  WHERE stock = \\'{}\\' ORDER BY date DESC\"\"\"\n",
    "  \n",
    "\n",
    "tdcc_df = pd.read_sql_query( cmd.format( query_num ), engine )\n",
    "\n",
    "tdcc_df.head()\n",
    "\n",
    "tdcc_df[ '散戶持股比例100張以下' ] = tdcc_df[ 'Share_Rating_Proportion_1_999' ] + \\\n",
    "tdcc_df['Share_Rating_Proportion_1000_5000']  + \\\n",
    "tdcc_df['Share_Rating_Proportion_5001_10000'] + \\\n",
    "tdcc_df['Share_Rating_Proportion_10001_15000'] + \\\n",
    "tdcc_df['Share_Rating_Proportion_15001_20000'] +\\\n",
    "tdcc_df['Share_Rating_Proportion_20001_30000'] +\\\n",
    "tdcc_df['Share_Rating_Proportion_30001_40000'] +\\\n",
    "tdcc_df['Share_Rating_Proportion_40001_50000'] +\\\n",
    "tdcc_df['Share_Rating_Proportion_50001_100000'] \n",
    "\n",
    "tdcc_df['散戶持股比例200張以下'] = tdcc_df[ '散戶持股比例100張以下' ] + tdcc_df[ 'Share_Rating_Proportion_100001_200000']\n",
    "\n",
    "tdcc_df['散戶持股比例400張以下'] = tdcc_df['散戶持股比例200張以下'] + \\\n",
    "                                 tdcc_df[ 'Share_Rating_Proportion_200001_400000']\n",
    "    \n",
    "tdcc_df['散戶持股比例600張以下'] = tdcc_df['散戶持股比例400張以下'] + \\\n",
    "                                 tdcc_df[ 'Share_Rating_Proportion_400001_600000']\n",
    "    \n",
    "tdcc_df['散戶持股比例800張以下'] = tdcc_df['散戶持股比例600張以下'] + \\\n",
    "                                 tdcc_df[ 'Share_Rating_Proportion_600001_800000']\n",
    "    \n",
    "tdcc_df['大戶持股比例400張以上'] = tdcc_df['Share_Rating_Proportion_400001_600000']  + \\\n",
    "tdcc_df['Share_Rating_Proportion_600001_800000']  + \\\n",
    "tdcc_df['Share_Rating_Proportion_800001_1000000'] + \\\n",
    "tdcc_df['Share_Rating_Proportion_Up_1000001']\n",
    "\n",
    "tdcc_df['大戶持股比例600張以上'] = tdcc_df['大戶持股比例400張以上'] - tdcc_df['Share_Rating_Proportion_400001_600000']\n",
    "\n",
    "tdcc_df['大戶持股比例800張以上'] = tdcc_df['大戶持股比例600張以上'] - tdcc_df['Share_Rating_Proportion_600001_800000']\n",
    "\n",
    "tdcc_df['大戶持股比例1000張以上'] = tdcc_df['大戶持股比例800張以上'] - tdcc_df['Share_Rating_Proportion_800001_1000000']"
   ]
  },
  {
   "cell_type": "code",
   "execution_count": null,
   "metadata": {
    "extensions": {
     "jupyter_dashboards": {
      "version": 1,
      "views": {
       "grid_default": {
        "col": 0,
        "height": 22,
        "hidden": false,
        "row": 75,
        "width": null
       },
       "report_default": {
        "hidden": true
       }
      }
     }
    },
    "hide_input": true
   },
   "outputs": [],
   "source": [
    "# tdcc_df = tdcc_df[::-1]\n",
    "\n",
    "fig = tls.make_subplots( rows=1, cols=1, shared_xaxes=False )\n",
    "#                         subplot_titles=( '集中度', 'K線', '主力買賣超', '主力買賣超') )\n",
    "\n",
    "fig.append_trace( {'x': tdcc_df['date'], \n",
    "                   'y': tdcc_df['大戶持股比例600張以上'], \n",
    "                   'type': 'scatter', \n",
    "                   'name': '大戶持股比例600張以上' }, 1, 1 )\n",
    "\n",
    "fig.append_trace( {'x': tdcc_df['date'], \n",
    "                   'y': tdcc_df['大戶持股比例800張以上'], \n",
    "                   'type': 'scatter', \n",
    "                   'name': '大戶持股比例800張以上' }, 1, 1 )\n",
    "\n",
    "fig.append_trace( {'x': tdcc_df['date'], \n",
    "                   'y': tdcc_df['大戶持股比例1000張以上'], \n",
    "                   'type': 'scatter', \n",
    "                   'name': '大戶持股比例1000張以上' }, 1, 1 )\n",
    "\n",
    "fig.append_trace( {'x': tdcc_df['date'], \n",
    "                   'y': tdcc_df['散戶持股比例200張以下'], \n",
    "                   'type': 'scatter', \n",
    "                   'name': '散戶持股比例200張以下' }, 1, 1 )\n",
    "\n",
    "fig.append_trace( {'x': tdcc_df['date'], \n",
    "                   'y': tdcc_df['散戶持股比例400張以下'], \n",
    "                   'type': 'scatter', \n",
    "                   'name': '散戶持股比例400張以下' }, 1, 1 )\n",
    "\n",
    "fig.append_trace( {'x': tdcc_df['date'], \n",
    "                   'y': tdcc_df['散戶持股比例800張以下'], \n",
    "                   'type': 'scatter', \n",
    "                   'name': '散戶持股比例800張以下' }, 1, 1 )\n",
    "\n",
    "# fig.append_trace( {'x': csv_df['日期'], \n",
    "#                    'y': csv_df['收盤'], \n",
    "#                    'type': 'scatter', \n",
    "#                    'name': '收盤' }, 2, 1 )\n",
    "\n",
    "py.offline.iplot( fig, filename= '持股比例' )"
   ]
  },
  {
   "cell_type": "code",
   "execution_count": null,
   "metadata": {
    "collapsed": true,
    "extensions": {
     "jupyter_dashboards": {
      "version": 1,
      "views": {
       "grid_default": {
        "hidden": true
       },
       "report_default": {
        "hidden": true
       }
      }
     }
    }
   },
   "outputs": [],
   "source": [
    "# py.offline.plot( fig, filename = filename )"
   ]
  }
 ],
 "metadata": {
  "extensions": {
   "jupyter_dashboards": {
    "activeView": "report_default",
    "version": 1,
    "views": {
     "grid_default": {
      "cellMargin": 10,
      "defaultCellHeight": 20,
      "maxColumns": 12,
      "name": "grid",
      "type": "grid"
     },
     "report_default": {
      "name": "report",
      "type": "report"
     }
    }
   }
  },
  "hide_input": false,
  "kernelspec": {
   "display_name": "Python 3",
   "language": "python",
   "name": "python3"
  },
  "language_info": {
   "codemirror_mode": {
    "name": "ipython",
    "version": 3
   },
   "file_extension": ".py",
   "mimetype": "text/x-python",
   "name": "python",
   "nbconvert_exporter": "python",
   "pygments_lexer": "ipython3",
   "version": "3.4.4"
  }
 },
 "nbformat": 4,
 "nbformat_minor": 1
}
